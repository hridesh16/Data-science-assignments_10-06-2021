{
 "cells": [
  {
   "cell_type": "markdown",
   "id": "32797a85",
   "metadata": {},
   "source": [
    "#\n",
    "Use Random Forest to prepare a model on fraud data treating those who have taxable_income <=30000 as \"Risky\" and others are\"Good\""
   ]
  },
  {
   "cell_type": "code",
   "execution_count": 4,
   "id": "53021109",
   "metadata": {
    "ExecuteTime": {
     "end_time": "2021-11-08T09:27:49.996357Z",
     "start_time": "2021-11-08T09:27:49.979356Z"
    }
   },
   "outputs": [],
   "source": [
    "import pandas as pd\n",
    "import numpy as np\n",
    "import matplotlib.pyplot as plt "
   ]
  },
  {
   "cell_type": "code",
   "execution_count": 6,
   "id": "77a7165f",
   "metadata": {
    "ExecuteTime": {
     "end_time": "2021-11-08T09:28:01.073573Z",
     "start_time": "2021-11-08T09:28:01.037575Z"
    }
   },
   "outputs": [
    {
     "data": {
      "text/html": [
       "<div>\n",
       "<style scoped>\n",
       "    .dataframe tbody tr th:only-of-type {\n",
       "        vertical-align: middle;\n",
       "    }\n",
       "\n",
       "    .dataframe tbody tr th {\n",
       "        vertical-align: top;\n",
       "    }\n",
       "\n",
       "    .dataframe thead th {\n",
       "        text-align: right;\n",
       "    }\n",
       "</style>\n",
       "<table border=\"1\" class=\"dataframe\">\n",
       "  <thead>\n",
       "    <tr style=\"text-align: right;\">\n",
       "      <th></th>\n",
       "      <th>Undergrad</th>\n",
       "      <th>Marital.Status</th>\n",
       "      <th>Taxable.Income</th>\n",
       "      <th>City.Population</th>\n",
       "      <th>Work.Experience</th>\n",
       "      <th>Urban</th>\n",
       "    </tr>\n",
       "  </thead>\n",
       "  <tbody>\n",
       "    <tr>\n",
       "      <th>0</th>\n",
       "      <td>NO</td>\n",
       "      <td>Single</td>\n",
       "      <td>68833</td>\n",
       "      <td>50047</td>\n",
       "      <td>10</td>\n",
       "      <td>YES</td>\n",
       "    </tr>\n",
       "    <tr>\n",
       "      <th>1</th>\n",
       "      <td>YES</td>\n",
       "      <td>Divorced</td>\n",
       "      <td>33700</td>\n",
       "      <td>134075</td>\n",
       "      <td>18</td>\n",
       "      <td>YES</td>\n",
       "    </tr>\n",
       "    <tr>\n",
       "      <th>2</th>\n",
       "      <td>NO</td>\n",
       "      <td>Married</td>\n",
       "      <td>36925</td>\n",
       "      <td>160205</td>\n",
       "      <td>30</td>\n",
       "      <td>YES</td>\n",
       "    </tr>\n",
       "    <tr>\n",
       "      <th>3</th>\n",
       "      <td>YES</td>\n",
       "      <td>Single</td>\n",
       "      <td>50190</td>\n",
       "      <td>193264</td>\n",
       "      <td>15</td>\n",
       "      <td>YES</td>\n",
       "    </tr>\n",
       "    <tr>\n",
       "      <th>4</th>\n",
       "      <td>NO</td>\n",
       "      <td>Married</td>\n",
       "      <td>81002</td>\n",
       "      <td>27533</td>\n",
       "      <td>28</td>\n",
       "      <td>NO</td>\n",
       "    </tr>\n",
       "  </tbody>\n",
       "</table>\n",
       "</div>"
      ],
      "text/plain": [
       "  Undergrad Marital.Status  Taxable.Income  City.Population  Work.Experience  \\\n",
       "0        NO         Single           68833            50047               10   \n",
       "1       YES       Divorced           33700           134075               18   \n",
       "2        NO        Married           36925           160205               30   \n",
       "3       YES         Single           50190           193264               15   \n",
       "4        NO        Married           81002            27533               28   \n",
       "\n",
       "  Urban  \n",
       "0   YES  \n",
       "1   YES  \n",
       "2   YES  \n",
       "3   YES  \n",
       "4    NO  "
      ]
     },
     "execution_count": 6,
     "metadata": {},
     "output_type": "execute_result"
    }
   ],
   "source": [
    "data=pd.read_csv('C:/Users/hride/OneDrive/Desktop/Downloads/Fraud_check (1).csv')\n",
    "data.head()"
   ]
  },
  {
   "cell_type": "code",
   "execution_count": 7,
   "id": "000c3c87",
   "metadata": {
    "ExecuteTime": {
     "end_time": "2021-11-08T09:29:01.909185Z",
     "start_time": "2021-11-08T09:29:01.885182Z"
    }
   },
   "outputs": [],
   "source": [
    "#Converting the Taxable income variable to bucketing:\n",
    "data[\"income\"]=\"<=30000\"\n",
    "data.loc[data[\"Taxable.Income\"]>=30000,\"income\"]=\"Good\"\n",
    "data.loc[data[\"Taxable.Income\"]<=30000,\"income\"]=\"Risky\""
   ]
  },
  {
   "cell_type": "code",
   "execution_count": 8,
   "id": "539991ce",
   "metadata": {
    "ExecuteTime": {
     "end_time": "2021-11-08T09:29:13.139562Z",
     "start_time": "2021-11-08T09:29:13.121564Z"
    }
   },
   "outputs": [],
   "source": [
    "# Droping the Taxable income variable :\n",
    "data.drop([\"Taxable.Income\"],axis=1,inplace=True)"
   ]
  },
  {
   "cell_type": "code",
   "execution_count": 9,
   "id": "78e2cd37",
   "metadata": {
    "ExecuteTime": {
     "end_time": "2021-11-08T09:29:20.520174Z",
     "start_time": "2021-11-08T09:29:20.512173Z"
    }
   },
   "outputs": [],
   "source": [
    "data.rename(columns={\"Undergrad\":\"undergrad\",\"Marital.Status\":\"marital\",\"City.Population\":\"population\",\"Work.Experience\":\"experience\",\"Urban\":\"urban\"},inplace=True)"
   ]
  },
  {
   "cell_type": "code",
   "execution_count": 10,
   "id": "7b5d5ddb",
   "metadata": {
    "ExecuteTime": {
     "end_time": "2021-11-08T09:30:31.998183Z",
     "start_time": "2021-11-08T09:30:31.969179Z"
    }
   },
   "outputs": [
    {
     "data": {
      "text/html": [
       "<div>\n",
       "<style scoped>\n",
       "    .dataframe tbody tr th:only-of-type {\n",
       "        vertical-align: middle;\n",
       "    }\n",
       "\n",
       "    .dataframe tbody tr th {\n",
       "        vertical-align: top;\n",
       "    }\n",
       "\n",
       "    .dataframe thead th {\n",
       "        text-align: right;\n",
       "    }\n",
       "</style>\n",
       "<table border=\"1\" class=\"dataframe\">\n",
       "  <thead>\n",
       "    <tr style=\"text-align: right;\">\n",
       "      <th></th>\n",
       "      <th>undergrad</th>\n",
       "      <th>marital</th>\n",
       "      <th>population</th>\n",
       "      <th>experience</th>\n",
       "      <th>urban</th>\n",
       "      <th>income</th>\n",
       "    </tr>\n",
       "  </thead>\n",
       "  <tbody>\n",
       "    <tr>\n",
       "      <th>0</th>\n",
       "      <td>NO</td>\n",
       "      <td>Single</td>\n",
       "      <td>50047</td>\n",
       "      <td>10</td>\n",
       "      <td>YES</td>\n",
       "      <td>Good</td>\n",
       "    </tr>\n",
       "    <tr>\n",
       "      <th>1</th>\n",
       "      <td>YES</td>\n",
       "      <td>Divorced</td>\n",
       "      <td>134075</td>\n",
       "      <td>18</td>\n",
       "      <td>YES</td>\n",
       "      <td>Good</td>\n",
       "    </tr>\n",
       "    <tr>\n",
       "      <th>2</th>\n",
       "      <td>NO</td>\n",
       "      <td>Married</td>\n",
       "      <td>160205</td>\n",
       "      <td>30</td>\n",
       "      <td>YES</td>\n",
       "      <td>Good</td>\n",
       "    </tr>\n",
       "    <tr>\n",
       "      <th>3</th>\n",
       "      <td>YES</td>\n",
       "      <td>Single</td>\n",
       "      <td>193264</td>\n",
       "      <td>15</td>\n",
       "      <td>YES</td>\n",
       "      <td>Good</td>\n",
       "    </tr>\n",
       "    <tr>\n",
       "      <th>4</th>\n",
       "      <td>NO</td>\n",
       "      <td>Married</td>\n",
       "      <td>27533</td>\n",
       "      <td>28</td>\n",
       "      <td>NO</td>\n",
       "      <td>Good</td>\n",
       "    </tr>\n",
       "    <tr>\n",
       "      <th>...</th>\n",
       "      <td>...</td>\n",
       "      <td>...</td>\n",
       "      <td>...</td>\n",
       "      <td>...</td>\n",
       "      <td>...</td>\n",
       "      <td>...</td>\n",
       "    </tr>\n",
       "    <tr>\n",
       "      <th>595</th>\n",
       "      <td>YES</td>\n",
       "      <td>Divorced</td>\n",
       "      <td>39492</td>\n",
       "      <td>7</td>\n",
       "      <td>YES</td>\n",
       "      <td>Good</td>\n",
       "    </tr>\n",
       "    <tr>\n",
       "      <th>596</th>\n",
       "      <td>YES</td>\n",
       "      <td>Divorced</td>\n",
       "      <td>55369</td>\n",
       "      <td>2</td>\n",
       "      <td>YES</td>\n",
       "      <td>Good</td>\n",
       "    </tr>\n",
       "    <tr>\n",
       "      <th>597</th>\n",
       "      <td>NO</td>\n",
       "      <td>Divorced</td>\n",
       "      <td>154058</td>\n",
       "      <td>0</td>\n",
       "      <td>YES</td>\n",
       "      <td>Good</td>\n",
       "    </tr>\n",
       "    <tr>\n",
       "      <th>598</th>\n",
       "      <td>YES</td>\n",
       "      <td>Married</td>\n",
       "      <td>180083</td>\n",
       "      <td>17</td>\n",
       "      <td>NO</td>\n",
       "      <td>Good</td>\n",
       "    </tr>\n",
       "    <tr>\n",
       "      <th>599</th>\n",
       "      <td>NO</td>\n",
       "      <td>Divorced</td>\n",
       "      <td>158137</td>\n",
       "      <td>16</td>\n",
       "      <td>NO</td>\n",
       "      <td>Good</td>\n",
       "    </tr>\n",
       "  </tbody>\n",
       "</table>\n",
       "<p>600 rows × 6 columns</p>\n",
       "</div>"
      ],
      "text/plain": [
       "    undergrad   marital  population  experience urban income\n",
       "0          NO    Single       50047          10   YES   Good\n",
       "1         YES  Divorced      134075          18   YES   Good\n",
       "2          NO   Married      160205          30   YES   Good\n",
       "3         YES    Single      193264          15   YES   Good\n",
       "4          NO   Married       27533          28    NO   Good\n",
       "..        ...       ...         ...         ...   ...    ...\n",
       "595       YES  Divorced       39492           7   YES   Good\n",
       "596       YES  Divorced       55369           2   YES   Good\n",
       "597        NO  Divorced      154058           0   YES   Good\n",
       "598       YES   Married      180083          17    NO   Good\n",
       "599        NO  Divorced      158137          16    NO   Good\n",
       "\n",
       "[600 rows x 6 columns]"
      ]
     },
     "execution_count": 10,
     "metadata": {},
     "output_type": "execute_result"
    }
   ],
   "source": [
    "data"
   ]
  },
  {
   "cell_type": "code",
   "execution_count": 11,
   "id": "f9c1cad3",
   "metadata": {
    "ExecuteTime": {
     "end_time": "2021-11-08T09:30:43.603427Z",
     "start_time": "2021-11-08T09:30:43.585427Z"
    }
   },
   "outputs": [],
   "source": [
    "from sklearn import preprocessing\n",
    "le=preprocessing.LabelEncoder()\n",
    "for column_name in data.columns:\n",
    "    if data[column_name].dtype == object:\n",
    "        data[column_name] = le.fit_transform(data[column_name])\n",
    "    else:\n",
    "        pass"
   ]
  },
  {
   "cell_type": "code",
   "execution_count": 12,
   "id": "26d17d04",
   "metadata": {
    "ExecuteTime": {
     "end_time": "2021-11-08T09:30:56.607960Z",
     "start_time": "2021-11-08T09:30:56.584956Z"
    }
   },
   "outputs": [
    {
     "data": {
      "text/html": [
       "<div>\n",
       "<style scoped>\n",
       "    .dataframe tbody tr th:only-of-type {\n",
       "        vertical-align: middle;\n",
       "    }\n",
       "\n",
       "    .dataframe tbody tr th {\n",
       "        vertical-align: top;\n",
       "    }\n",
       "\n",
       "    .dataframe thead th {\n",
       "        text-align: right;\n",
       "    }\n",
       "</style>\n",
       "<table border=\"1\" class=\"dataframe\">\n",
       "  <thead>\n",
       "    <tr style=\"text-align: right;\">\n",
       "      <th></th>\n",
       "      <th>undergrad</th>\n",
       "      <th>marital</th>\n",
       "      <th>population</th>\n",
       "      <th>experience</th>\n",
       "      <th>urban</th>\n",
       "      <th>income</th>\n",
       "    </tr>\n",
       "  </thead>\n",
       "  <tbody>\n",
       "    <tr>\n",
       "      <th>595</th>\n",
       "      <td>1</td>\n",
       "      <td>0</td>\n",
       "      <td>39492</td>\n",
       "      <td>7</td>\n",
       "      <td>1</td>\n",
       "      <td>0</td>\n",
       "    </tr>\n",
       "    <tr>\n",
       "      <th>596</th>\n",
       "      <td>1</td>\n",
       "      <td>0</td>\n",
       "      <td>55369</td>\n",
       "      <td>2</td>\n",
       "      <td>1</td>\n",
       "      <td>0</td>\n",
       "    </tr>\n",
       "    <tr>\n",
       "      <th>597</th>\n",
       "      <td>0</td>\n",
       "      <td>0</td>\n",
       "      <td>154058</td>\n",
       "      <td>0</td>\n",
       "      <td>1</td>\n",
       "      <td>0</td>\n",
       "    </tr>\n",
       "    <tr>\n",
       "      <th>598</th>\n",
       "      <td>1</td>\n",
       "      <td>1</td>\n",
       "      <td>180083</td>\n",
       "      <td>17</td>\n",
       "      <td>0</td>\n",
       "      <td>0</td>\n",
       "    </tr>\n",
       "    <tr>\n",
       "      <th>599</th>\n",
       "      <td>0</td>\n",
       "      <td>0</td>\n",
       "      <td>158137</td>\n",
       "      <td>16</td>\n",
       "      <td>0</td>\n",
       "      <td>0</td>\n",
       "    </tr>\n",
       "  </tbody>\n",
       "</table>\n",
       "</div>"
      ],
      "text/plain": [
       "     undergrad  marital  population  experience  urban  income\n",
       "595          1        0       39492           7      1       0\n",
       "596          1        0       55369           2      1       0\n",
       "597          0        0      154058           0      1       0\n",
       "598          1        1      180083          17      0       0\n",
       "599          0        0      158137          16      0       0"
      ]
     },
     "execution_count": 12,
     "metadata": {},
     "output_type": "execute_result"
    }
   ],
   "source": [
    "data.tail()"
   ]
  },
  {
   "cell_type": "code",
   "execution_count": 13,
   "id": "8d6657f0",
   "metadata": {
    "ExecuteTime": {
     "end_time": "2021-11-08T09:31:24.782350Z",
     "start_time": "2021-11-08T09:31:24.771350Z"
    }
   },
   "outputs": [
    {
     "data": {
      "text/plain": [
       "0    476\n",
       "1    124\n",
       "Name: income, dtype: int64"
      ]
     },
     "execution_count": 13,
     "metadata": {},
     "output_type": "execute_result"
    }
   ],
   "source": [
    "data[\"income\"].value_counts()"
   ]
  },
  {
   "cell_type": "code",
   "execution_count": 14,
   "id": "c0d6681b",
   "metadata": {
    "ExecuteTime": {
     "end_time": "2021-11-08T09:33:32.894363Z",
     "start_time": "2021-11-08T09:33:32.883364Z"
    }
   },
   "outputs": [],
   "source": [
    "#Splitting the data into features and labels:\n",
    "features= data.iloc[:,0:5]\n",
    "labels= data.iloc[:,5]"
   ]
  },
  {
   "cell_type": "code",
   "execution_count": 15,
   "id": "80a5c858",
   "metadata": {
    "ExecuteTime": {
     "end_time": "2021-11-08T09:37:38.521231Z",
     "start_time": "2021-11-08T09:37:38.514231Z"
    }
   },
   "outputs": [],
   "source": [
    "# Collecting the column names :\n",
    "colnames = list(data.columns)\n",
    "predictors = colnames[0:5]\n",
    "target = colnames[5]"
   ]
  },
  {
   "cell_type": "code",
   "execution_count": 21,
   "id": "c5adbb2b",
   "metadata": {
    "ExecuteTime": {
     "end_time": "2021-11-08T09:39:21.342978Z",
     "start_time": "2021-11-08T09:39:21.334976Z"
    }
   },
   "outputs": [],
   "source": [
    "# Splitting data into training and testing data set\n",
    "\n",
    "from sklearn.model_selection import train_test_split\n",
    "x_train,x_test,y_train,y_test = train_test_split(features,labels,test_size = 0.3,random_state=42)"
   ]
  },
  {
   "cell_type": "code",
   "execution_count": 22,
   "id": "7f5d3993",
   "metadata": {
    "ExecuteTime": {
     "end_time": "2021-11-08T09:39:24.510521Z",
     "start_time": "2021-11-08T09:39:24.497521Z"
    }
   },
   "outputs": [],
   "source": [
    "# Model building :\n",
    "from sklearn.datasets import make_classification\n",
    "x, y = make_classification(n_samples=1000, n_features=4, n_informative=2, n_redundant=0, random_state=0, shuffle=False)"
   ]
  },
  {
   "cell_type": "code",
   "execution_count": 23,
   "id": "26ee1e83",
   "metadata": {
    "ExecuteTime": {
     "end_time": "2021-11-08T09:39:27.602324Z",
     "start_time": "2021-11-08T09:39:27.433310Z"
    }
   },
   "outputs": [
    {
     "data": {
      "text/plain": [
       "RandomForestClassifier(max_depth=2, random_state=0)"
      ]
     },
     "execution_count": 23,
     "metadata": {},
     "output_type": "execute_result"
    }
   ],
   "source": [
    "from sklearn.ensemble import RandomForestClassifier as RF\n",
    "model = RF(max_depth=2, random_state=0)\n",
    "model.fit(x_train,y_train)"
   ]
  },
  {
   "cell_type": "code",
   "execution_count": 24,
   "id": "a26b4413",
   "metadata": {
    "ExecuteTime": {
     "end_time": "2021-11-08T09:39:30.232665Z",
     "start_time": "2021-11-08T09:39:30.196016Z"
    }
   },
   "outputs": [],
   "source": [
    "# Predictions on train data :\n",
    "prediction = model.predict(x_train)"
   ]
  },
  {
   "cell_type": "code",
   "execution_count": 25,
   "id": "dd7b33e9",
   "metadata": {
    "ExecuteTime": {
     "end_time": "2021-11-08T09:39:32.638510Z",
     "start_time": "2021-11-08T09:39:32.623508Z"
    }
   },
   "outputs": [
    {
     "data": {
      "text/plain": [
       "0.7928571428571428"
      ]
     },
     "execution_count": 25,
     "metadata": {},
     "output_type": "execute_result"
    }
   ],
   "source": [
    "# Accuracy :\n",
    "from sklearn.metrics import accuracy_score\n",
    "accuracy = accuracy_score(y_train,prediction)\n",
    "accuracy"
   ]
  },
  {
   "cell_type": "code",
   "execution_count": 26,
   "id": "0b09dfd7",
   "metadata": {
    "ExecuteTime": {
     "end_time": "2021-11-08T09:40:13.972501Z",
     "start_time": "2021-11-08T09:40:13.939498Z"
    }
   },
   "outputs": [],
   "source": [
    "# Prediction on test data :\n",
    "pred_test = model.predict(x_test)"
   ]
  },
  {
   "cell_type": "code",
   "execution_count": 27,
   "id": "9107dda4",
   "metadata": {
    "ExecuteTime": {
     "end_time": "2021-11-08T09:40:23.752875Z",
     "start_time": "2021-11-08T09:40:23.732873Z"
    }
   },
   "outputs": [
    {
     "data": {
      "text/plain": [
       "0.7944444444444444"
      ]
     },
     "execution_count": 27,
     "metadata": {},
     "output_type": "execute_result"
    }
   ],
   "source": [
    "# Accuracy :\n",
    "acc_test =accuracy_score(y_test,pred_test)\n",
    "acc_test"
   ]
  },
  {
   "cell_type": "code",
   "execution_count": 28,
   "id": "3c1e8fec",
   "metadata": {
    "ExecuteTime": {
     "end_time": "2021-11-08T09:41:04.003267Z",
     "start_time": "2021-11-08T09:41:03.986266Z"
    }
   },
   "outputs": [],
   "source": [
    "##Confusion matrix\n",
    "from sklearn.metrics import confusion_matrix\n",
    "confusion = confusion_matrix(y_train,prediction)"
   ]
  },
  {
   "cell_type": "code",
   "execution_count": 29,
   "id": "ca0f8250",
   "metadata": {
    "ExecuteTime": {
     "end_time": "2021-11-08T09:41:17.457982Z",
     "start_time": "2021-11-08T09:41:17.437983Z"
    }
   },
   "outputs": [
    {
     "data": {
      "text/plain": [
       "array([[333,   0],\n",
       "       [ 87,   0]], dtype=int64)"
      ]
     },
     "execution_count": 29,
     "metadata": {},
     "output_type": "execute_result"
    }
   ],
   "source": [
    "confusion"
   ]
  },
  {
   "cell_type": "code",
   "execution_count": null,
   "id": "b1e54712",
   "metadata": {},
   "outputs": [],
   "source": []
  }
 ],
 "metadata": {
  "kernelspec": {
   "display_name": "Python 3",
   "language": "python",
   "name": "python3"
  },
  "language_info": {
   "codemirror_mode": {
    "name": "ipython",
    "version": 3
   },
   "file_extension": ".py",
   "mimetype": "text/x-python",
   "name": "python",
   "nbconvert_exporter": "python",
   "pygments_lexer": "ipython3",
   "version": "3.8.8"
  }
 },
 "nbformat": 4,
 "nbformat_minor": 5
}
